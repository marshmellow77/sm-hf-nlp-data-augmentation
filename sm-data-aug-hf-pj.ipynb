{
 "cells": [
  {
   "cell_type": "markdown",
   "metadata": {},
   "source": [
    "### Imports and configuration"
   ]
  },
  {
   "cell_type": "code",
   "execution_count": 2,
   "metadata": {},
   "outputs": [],
   "source": [
    "import boto3\n",
    "import sagemaker\n",
    "import sagemaker\n",
    "from sagemaker.huggingface.processing import HuggingFaceProcessor\n",
    "from sagemaker.processing import ProcessingInput, ProcessingOutput\n",
    "\n",
    "sess = sagemaker.Session()\n",
    "role = sagemaker.get_execution_role()\n",
    "bucket = sess.default_bucket()\n",
    "language = \"en\" #change this to de, making sure the data is in german\n",
    "output_file_name = 'augmented_reviews.csv'"
   ]
  },
  {
   "cell_type": "code",
   "execution_count": 3,
   "metadata": {},
   "outputs": [],
   "source": [
    "input_data = f's3://{bucket}/sm-data-aug-nlp/inputs/imdb.csv'"
   ]
  },
  {
   "cell_type": "markdown",
   "metadata": {},
   "source": [
    "### Instantiate a HuggingFaceProcessor with Job configurations"
   ]
  },
  {
   "cell_type": "code",
   "execution_count": null,
   "metadata": {},
   "outputs": [],
   "source": [
    "hf_processor = HuggingFaceProcessor(\n",
    "    role = role, \n",
    "    instance_type = 'ml.p3.2xlarge',\n",
    "    transformers_version = '4.6',\n",
    "    pytorch_version = '1.7',\n",
    "    instance_count = 1,\n",
    ")"
   ]
  },
  {
   "cell_type": "markdown",
   "metadata": {},
   "source": [
    "### Set data and arguments configuration\n",
    "We decouple the choice of source language from the processing script; the `language` parameter can be either `de` or `en`."
   ]
  },
  {
   "cell_type": "code",
   "execution_count": null,
   "metadata": {},
   "outputs": [],
   "source": [
    "inputs = [ProcessingInput(\n",
    "    source = input_data, \n",
    "    destination = \"/opt/ml/processing/input\")\n",
    "         ]\n",
    "outputs = [ProcessingOutput(\n",
    "    output_name = 'augmented-text', \n",
    "    source=\"/opt/ml/processing/output\", \n",
    "    destination =f's3://{bucket}/sm-data-aug-nlp/output/')\n",
    "          ]\n",
    "arguments = [\"--file-name\", \"imdb.csv\", \n",
    "             \"--output-file-name\", output_file_name,\n",
    "             \"--language\", language]"
   ]
  },
  {
   "cell_type": "markdown",
   "metadata": {},
   "source": [
    "### Start the Processing Job"
   ]
  },
  {
   "cell_type": "code",
   "execution_count": null,
   "metadata": {},
   "outputs": [],
   "source": [
    "hf_processor.run(\n",
    "    code = 'scripts/aug-hf.py',\n",
    "    inputs = inputs, \n",
    "    outputs = outputs, \n",
    "    arguments = arguments,\n",
    "    wait = False\n",
    ")"
   ]
  }
 ],
 "metadata": {
  "instance_type": "ml.t3.medium",
  "interpreter": {
   "hash": "5bbb947b019aabc166c8717889777a622c758bbaa9b79b8ac8fc54625bc7df19"
  },
  "kernelspec": {
   "display_name": "Python 3 (Data Science)",
   "language": "python",
   "name": "python3"
  },
  "language_info": {
   "codemirror_mode": {
    "name": "ipython",
    "version": 3
   },
   "file_extension": ".py",
   "mimetype": "text/x-python",
   "name": "python",
   "nbconvert_exporter": "python",
   "pygments_lexer": "ipython3",
   "version": "3.8.2"
  }
 },
 "nbformat": 4,
 "nbformat_minor": 4
}
