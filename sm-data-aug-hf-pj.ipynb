{
 "cells": [
  {
   "cell_type": "code",
   "execution_count": 2,
   "metadata": {},
   "outputs": [],
   "source": [
    "import boto3\n",
    "import sagemaker\n",
    "from sagemaker import get_execution_role\n",
    "from sagemaker.huggingface.processing import HuggingFaceProcessor\n",
    "from sagemaker.processing import ProcessingInput, ProcessingOutput\n",
    "\n",
    "role = get_execution_role()\n",
    "language = \"en\" #change this to de, making sure the data is in german\n",
    "output_file_name = 'augmented_reviews.csv'"
   ]
  },
  {
   "cell_type": "code",
   "execution_count": 3,
   "metadata": {},
   "outputs": [],
   "source": [
    "input_data = 's3://sm-data-aug-nlp/inputs/imdb.csv'"
   ]
  },
  {
   "cell_type": "code",
   "execution_count": null,
   "metadata": {},
   "outputs": [],
   "source": [
    "hf_processor = HuggingFaceProcessor(\n",
    "    role = role, \n",
    "    instance_type = 'ml.p3.2xlarge',\n",
    "    transformers_version = '4.6',\n",
    "    pytorch_version = '1.7',\n",
    "    instance_count = 1,\n",
    ")"
   ]
  },
  {
   "cell_type": "code",
   "execution_count": null,
   "metadata": {},
   "outputs": [],
   "source": [
    "inputs = [ProcessingInput(\n",
    "    source = input_data, \n",
    "    destination = \"/opt/ml/processing/input\")\n",
    "         ]\n",
    "outputs = [ProcessingOutput(\n",
    "    output_name = 'augemented-text', \n",
    "    source=\"/opt/ml/processing/output\", \n",
    "    destination ='s3://sm-data-aug-nlp/output/')\n",
    "          ]\n",
    "arguments = [\"--file-name\", \"imdb.csv\", \n",
    "             \"--output-file-name\", output_file_name,\n",
    "             \"--language\", language]"
   ]
  },
  {
   "cell_type": "code",
   "execution_count": null,
   "metadata": {},
   "outputs": [],
   "source": [
    "hf_processor.run(\n",
    "    code = 'scripts/aug-hf.py',\n",
    "    inputs = inputs, \n",
    "    outputs = outputs, \n",
    "    arguments = arguments,\n",
    "    wait = False\n",
    ")"
   ]
  }
 ],
 "metadata": {
  "instance_type": "ml.t3.medium",
  "kernelspec": {
   "display_name": "Python 3 (Data Science)",
   "language": "python",
   "name": "python3__SAGEMAKER_INTERNAL__arn:aws:sagemaker:us-east-1:081325390199:image/datascience-1.0"
  },
  "language_info": {
   "codemirror_mode": {
    "name": "ipython",
    "version": 3
   },
   "file_extension": ".py",
   "mimetype": "text/x-python",
   "name": "python",
   "nbconvert_exporter": "python",
   "pygments_lexer": "ipython3",
   "version": "3.7.10"
  }
 },
 "nbformat": 4,
 "nbformat_minor": 4
}
