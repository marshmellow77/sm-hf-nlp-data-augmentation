{
 "cells": [
  {
   "cell_type": "markdown",
   "metadata": {},
   "source": [
    "### Imports and configuration"
   ]
  },
  {
   "cell_type": "code",
   "execution_count": 3,
   "metadata": {},
   "outputs": [],
   "source": [
    "import boto3\n",
    "import sagemaker\n",
    "import pandas as pd\n",
    "from sagemaker.huggingface.processing import HuggingFaceProcessor\n",
    "from sagemaker.processing import ProcessingInput, ProcessingOutput\n",
    "\n",
    "sess = sagemaker.Session()\n",
    "role = sagemaker.get_execution_role()\n",
    "bucket = sess.default_bucket()\n",
    "language = \"en\" # change this to de, making sure the data is in german\n",
    "output_file_name = 'augmented_reviews.csv'"
   ]
  },
  {
   "cell_type": "code",
   "execution_count": 3,
   "metadata": {},
   "outputs": [],
   "source": [
    "input_data = f's3://{bucket}/sm-nlp-data-aug/data/imdb.csv'"
   ]
  },
  {
   "cell_type": "markdown",
   "metadata": {},
   "source": [
    "### Instantiate a HuggingFaceProcessor with Job configurations"
   ]
  },
  {
   "cell_type": "code",
   "execution_count": null,
   "metadata": {},
   "outputs": [],
   "source": [
    "hf_processor = HuggingFaceProcessor(\n",
    "    role = role, \n",
    "    instance_type = 'ml.p3.2xlarge',\n",
    "    transformers_version = '4.6',\n",
    "    pytorch_version = '1.7',\n",
    "    instance_count = 1,\n",
    ")"
   ]
  },
  {
   "cell_type": "markdown",
   "metadata": {},
   "source": [
    "### Set data and arguments configuration\n",
    "We decouple the choice of source language from the processing script; the `language` parameter can be either `de` or `en`."
   ]
  },
  {
   "cell_type": "code",
   "execution_count": null,
   "metadata": {},
   "outputs": [],
   "source": [
    "inputs = [ProcessingInput(\n",
    "    source = input_data, \n",
    "    destination = \"/opt/ml/processing/input\")\n",
    "         ]\n",
    "outputs = [ProcessingOutput(\n",
    "    output_name = 'augemented-text', \n",
    "    source=\"/opt/ml/processing/output\", \n",
    "    destination =f's3://{bucket}/sm-nlp-data-aug/output/')\n",
    "          ]\n",
    "arguments = [\"--file-name\", \"imdb.csv\", \n",
    "             \"--output-file-name\", output_file_name,\n",
    "             \"--language\", language]"
   ]
  },
  {
   "cell_type": "markdown",
   "metadata": {},
   "source": [
    "### Start the Processing Job"
   ]
  },
  {
   "cell_type": "code",
   "execution_count": null,
   "metadata": {},
   "outputs": [],
   "source": [
    "hf_processor.run(\n",
    "    code = 'scripts/aug-hf.py',\n",
    "    inputs = inputs, \n",
    "    outputs = outputs, \n",
    "    arguments = arguments,\n",
    "    wait = False\n",
    ")"
   ]
  },
  {
   "cell_type": "markdown",
   "metadata": {},
   "source": [
    "### Check the results"
   ]
  },
  {
   "cell_type": "code",
   "execution_count": null,
   "metadata": {},
   "outputs": [],
   "source": [
    "! aws s3 cp s3://\"$bucket\"/sm-nlp-data-aug/output/\"$output_file_name\" ."
   ]
  },
  {
   "cell_type": "code",
   "execution_count": 8,
   "metadata": {},
   "outputs": [],
   "source": [
    "df_results = pd.read_csv('augmented_data.csv')"
   ]
  },
  {
   "cell_type": "markdown",
   "metadata": {},
   "source": [
    "Print out all the translations and their original sentence, by their index in the dataframe "
   ]
  },
  {
   "cell_type": "code",
   "execution_count": null,
   "metadata": {},
   "outputs": [],
   "source": [
    "selected_index = 1\n",
    "df_results[df_results.ID==df_results.iloc[selected_index].ID]"
   ]
  }
 ],
 "metadata": {
  "instance_type": "ml.t3.medium",
  "interpreter": {
   "hash": "c7afa0ae18b3260ed93b8bee865cfa3eb3baf9c734e87fff18baa38bb0f354f0"
  },
  "kernelspec": {
   "display_name": "Python 3 (Data Science)",
   "language": "python",
   "name": "python3"
  },
  "language_info": {
   "codemirror_mode": {
    "name": "ipython",
    "version": 3
   },
   "file_extension": ".py",
   "mimetype": "text/x-python",
   "name": "python",
   "nbconvert_exporter": "python",
   "pygments_lexer": "ipython3",
   "version": "3.8.2"
  }
 },
 "nbformat": 4,
 "nbformat_minor": 4
}
